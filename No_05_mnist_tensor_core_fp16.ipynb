{
 "cells": [
  {
   "cell_type": "markdown",
   "metadata": {},
   "source": [
    "* Tensor Coreの効果を調査\n",
    "* FP16 拡大6層 MNIST ,Tensor DotによるTOPS計測\n",
    "* 自宅PC RTX2080"
   ]
  },
  {
   "cell_type": "code",
   "execution_count": 1,
   "metadata": {},
   "outputs": [
    {
     "name": "stdout",
     "output_type": "stream",
     "text": [
      "Platform: Windows-10-10.0.17763-SP0\n",
      "Chainer: 7.0.0a1\n",
      "NumPy: 1.16.2\n",
      "CuPy:\n",
      "  CuPy Version          : 7.0.0a1\n",
      "  CUDA Root             : C:\\Program Files\\NVIDIA GPU Computing Toolkit\\CUDA\\v10.1\n",
      "  CUDA Build Version    : 10010\n",
      "  CUDA Driver Version   : 10010\n",
      "  CUDA Runtime Version  : 10010\n",
      "  cuDNN Build Version   : 7500\n",
      "  cuDNN Version         : 7500\n",
      "  NCCL Build Version    : None\n",
      "  NCCL Runtime Version  : None\n",
      "iDeep: Not Available\n"
     ]
    }
   ],
   "source": [
    "# FP16 拡大6層 MNIST\n",
    "import chainer\n",
    "import chainer.functions as F\n",
    "import chainer.links as L\n",
    "from chainer import training\n",
    "from chainer.training import extensions\n",
    "import numpy as np\n",
    "\n",
    "chainer.global_config.dtype =  np.float16\n",
    "#chainer.global_config.dtype =  np.float32\n",
    "device = chainer.get_device('0')\n",
    "unit =4096\n",
    "batchsize = 4096\n",
    "epoch = 20\n",
    "\n",
    "chainer.print_runtime_info()"
   ]
  },
  {
   "cell_type": "code",
   "execution_count": 2,
   "metadata": {},
   "outputs": [],
   "source": [
    "# Network definition\n",
    "class MLP(chainer.Chain):\n",
    "\n",
    "    def __init__(self, n_units, n_out):\n",
    "        super(MLP, self).__init__()\n",
    "        with self.init_scope():\n",
    "            # the size of the inputs to each layer will be inferred\n",
    "            self.l1 = L.Linear(None, n_units)  # n_in -> n_units\n",
    "            self.l2 = L.Linear(None, n_units)  # n_units -> n_units\n",
    "            self.l3 = L.Linear(None, n_units)  # n_units -> n_units\n",
    "            self.l4 = L.Linear(None, n_units)  # n_units -> n_units\n",
    "            self.l5 = L.Linear(None, n_units)  # n_units -> n_units\n",
    "            self.l6 = L.Linear(None, n_out)  # n_units -> n_out\n",
    "\n",
    "    def forward(self, x):\n",
    "        h1 = F.relu(self.l1(x))\n",
    "        h2 = F.relu(self.l2(h1))\n",
    "        h3 = F.relu(self.l3(h2))\n",
    "        h4 = F.relu(self.l4(h3))\n",
    "        h5 = F.relu(self.l5(h4))\n",
    "        return self.l6(h5)\n",
    "\n",
    "# Set up a neural network to train\n",
    "model = L.Classifier(MLP(unit, 10))\n",
    "model.to_device(device)\n",
    "device.use()\n",
    "\n",
    "# Setup an optimizer\n",
    "#optimizer = chainer.optimizers.Adam()\n",
    "optimizer = chainer.optimizers.SGD()\n",
    "optimizer.setup(model)\n",
    "\n",
    "# Load the MNIST dataset\n",
    "train, test = chainer.datasets.get_mnist()\n",
    "train_iter = chainer.iterators.SerialIterator(train, batchsize)\n",
    "test_iter = chainer.iterators.SerialIterator(test, batchsize,repeat=False, shuffle=False)\n",
    "\n",
    "# Set up a trainer\n",
    "updater = training.updaters.StandardUpdater( train_iter, optimizer, device=device)\n",
    "trainer = training.Trainer(updater, (epoch, 'epoch'), out='result')\n",
    "trainer.extend(extensions.Evaluator(test_iter, model, device=device))\n",
    "trainer.extend(extensions.LogReport())\n",
    "trainer.extend(extensions.PrintReport(\n",
    "    ['epoch', 'main/loss', 'validation/main/loss',\n",
    "     'main/accuracy', 'validation/main/accuracy', 'elapsed_time']))"
   ]
  },
  {
   "cell_type": "code",
   "execution_count": 3,
   "metadata": {},
   "outputs": [
    {
     "name": "stdout",
     "output_type": "stream",
     "text": [
      "epoch       main/loss   validation/main/loss  main/accuracy  validation/main/accuracy  elapsed_time\n",
      "1           2.28906     2.27539               0.181519       0.2854                    5.25317       \n",
      "2           2.26953     2.25586               0.334961       0.406006                  6.07894       \n",
      "3           2.24609     2.23242               0.411621       0.45874                   6.85153       \n",
      "4           2.22461     2.20703               0.475098       0.544922                  7.68023       \n",
      "5           2.19922     2.18164               0.554199       0.597168                  8.50428       \n",
      "6           2.17773     2.1543                0.597168       0.640625                  9.27637       \n",
      "7           2.14844     2.12305               0.635254       0.669434                  10.1014       \n",
      "8           2.11719     2.08789               0.65918        0.697754                  10.927        \n",
      "9           2.08203     2.05273               0.682617       0.709473                  11.6993       \n",
      "10          2.04297     2.00586               0.696289       0.721191                  12.5221       \n",
      "11          1.99707     1.95312               0.706055       0.734863                  13.3469       \n",
      "12          1.94434     1.89551               0.717285       0.742188                  14.1159       \n",
      "13          1.88184     1.8252                0.724609       0.748535                  14.9488       \n",
      "14          1.81152     1.74512               0.731934       0.753418                  15.7753       \n",
      "15          1.73145     1.66016               0.737305       0.759277                  16.5506       \n",
      "16          1.64355     1.5625                0.742676       0.76709                   17.3706       \n",
      "17          1.5459      1.45703               0.75           0.779785                  18.1966       \n",
      "18          1.44727     1.36035               0.759277       0.789062                  18.9706       \n",
      "19          1.35254     1.26074               0.77002        0.79541                   19.7999       \n",
      "20          1.25879     1.1748                0.776855       0.808594                  20.5702       \n"
     ]
    }
   ],
   "source": [
    "# Run the training mnist\n",
    "trainer.run()"
   ]
  },
  {
   "cell_type": "code",
   "execution_count": null,
   "metadata": {},
   "outputs": [],
   "source": []
  },
  {
   "cell_type": "code",
   "execution_count": 5,
   "metadata": {},
   "outputs": [
    {
     "name": "stdout",
     "output_type": "stream",
     "text": [
      "variable(1025.)\n",
      "計算時間：3.433 s\n",
      "計算速度：40.040 Tops\n"
     ]
    }
   ],
   "source": [
    "#Tensor DotによるTOPS計算\n",
    "import chainer\n",
    "import chainer.links as L\n",
    "import numpy as np\n",
    "import cupy as cp\n",
    "import time\n",
    "\n",
    "COUNT = 1000\n",
    "N = 4096   \n",
    "x = np.random.uniform(size=(N, N))\n",
    "W = np.random.uniform(size=(N, N))\n",
    "\n",
    "x = chainer.Variable(cp.asarray(x,dtype= np.float16))\n",
    "W = chainer.Variable(cp.asarray(W,dtype= np.float16))\n",
    "\n",
    "start = time.time()\n",
    "\n",
    "for i in range(COUNT):\n",
    "    y = F.linear(x, W, b=None, n_batch_axes=1)  \n",
    "    \n",
    "print(y[0][0])\n",
    "end = time.time()\n",
    "elapsed = end - start\n",
    "\n",
    "print('計算時間：{:.3f} s'.format(elapsed))\n",
    "print('計算速度：{:.3f} Tops'.format(1e-12* COUNT * 2*N*N*N / elapsed))"
   ]
  },
  {
   "cell_type": "code",
   "execution_count": null,
   "metadata": {},
   "outputs": [],
   "source": []
  }
 ],
 "metadata": {
  "kernelspec": {
   "display_name": "Python 3",
   "language": "python",
   "name": "python3"
  },
  "language_info": {
   "codemirror_mode": {
    "name": "ipython",
    "version": 3
   },
   "file_extension": ".py",
   "mimetype": "text/x-python",
   "name": "python",
   "nbconvert_exporter": "python",
   "pygments_lexer": "ipython3",
   "version": "3.7.3"
  }
 },
 "nbformat": 4,
 "nbformat_minor": 2
}
