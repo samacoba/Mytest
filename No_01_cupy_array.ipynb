{
 "cells": [
  {
   "cell_type": "code",
   "execution_count": 1,
   "metadata": {},
   "outputs": [
    {
     "name": "stdout",
     "output_type": "stream",
     "text": [
      "A = \n",
      " [[0. 1. 2.]\n",
      " [3. 4. 5.]\n",
      " [6. 7. 8.]]\n",
      "B = \n",
      " [[0. 1. 2.]\n",
      " [3. 4. 5.]\n",
      " [6. 7. 8.]]\n"
     ]
    }
   ],
   "source": [
    "import cupy as cp\n",
    "A = cp.arange(9).reshape(3, 3).astype('f') #cupy上で3*3の行列を生成\n",
    "B = cp.arange(9).reshape(3, 3).astype('f') #cupy上で3*3の行列を生成\n",
    "print('A = \\n', A)\n",
    "print('B = \\n', B)"
   ]
  },
  {
   "cell_type": "code",
   "execution_count": 2,
   "metadata": {},
   "outputs": [
    {
     "name": "stdout",
     "output_type": "stream",
     "text": [
      "和：A + B = \n",
      " [[ 0.  2.  4.]\n",
      " [ 6.  8. 10.]\n",
      " [12. 14. 16.]]\n",
      "内積：A・B = \n",
      " [[ 15.  18.  21.]\n",
      " [ 42.  54.  66.]\n",
      " [ 69.  90. 111.]]\n"
     ]
    }
   ],
   "source": [
    "C = A + B #行列の和\n",
    "print('和：A + B = \\n', C)\n",
    "\n",
    "D = cp.dot(A, B) #行列の内積\n",
    "print('内積：A・B = \\n', D)"
   ]
  },
  {
   "cell_type": "code",
   "execution_count": 3,
   "metadata": {},
   "outputs": [
    {
     "name": "stdout",
     "output_type": "stream",
     "text": [
      "「E」のクラスは <class 'cupy.core.core.ndarray'>\n",
      "「E_np」のクラスは <class 'numpy.ndarray'>\n",
      "「E_cp」のクラスは <class 'cupy.core.core.ndarray'>\n"
     ]
    }
   ],
   "source": [
    "E = cp.arange(9).reshape(3, 3).astype('f') #cupyで生成するとcupy配列\n",
    "print('「E」のクラスは', type(E)) \n",
    "\n",
    "E_np = cp.asnumpy(E) #cupy ⇒ numpy配列へ変換\n",
    "print('「E_np」のクラスは', type(E_np))\n",
    "\n",
    "E_cp = cp.asarray(E_np) #numpy ⇒ cupy配列へ変換\n",
    "print('「E_cp」のクラスは', type(E_cp))"
   ]
  }
 ],
 "metadata": {
  "kernelspec": {
   "display_name": "Python 3",
   "language": "python",
   "name": "python3"
  },
  "language_info": {
   "codemirror_mode": {
    "name": "ipython",
    "version": 3
   },
   "file_extension": ".py",
   "mimetype": "text/x-python",
   "name": "python",
   "nbconvert_exporter": "python",
   "pygments_lexer": "ipython3",
   "version": "3.6.4"
  }
 },
 "nbformat": 4,
 "nbformat_minor": 2
}
