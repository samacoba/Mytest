{
 "cells": [
  {
   "cell_type": "code",
   "execution_count": 1,
   "metadata": {},
   "outputs": [],
   "source": [
    "#jupyter上にて\n",
    "#python側より html-javascriptのデータを取得\n",
    "#html-javascript側よりpython側のデータを取得"
   ]
  },
  {
   "cell_type": "code",
   "execution_count": 2,
   "metadata": {},
   "outputs": [
    {
     "data": {
      "text/html": [
       "<!DOCTYPE html><html lang=\"ja\">\n",
       "<head><mata charset=\"utf-8\"/><title>widget test</title></head><body>\n",
       "\n",
       "<form name=\"form1\">\n",
       "送信テキスト：\n",
       "<input type=\"text\" name=\"input1\" value=\"フロント側テキスト「abc,def」\" style=\"width:300px;\"><br>\n",
       "ログ：<br>\n",
       "<textarea disabled name=\"output1\" rows=\"3\" cols=\"60\"></textarea><br>\n",
       "<button name=\"btn1\" type=\"button\">受信ボタン</button>\n",
       "</form>\n",
       "\n",
       "<script>\n",
       "var ipy_TransView = \"\"\n",
       "\n",
       "document.form1.btn1.onclick = function() {\n",
       "    //b2f_order_textを変化させる(+1する)、バック側のコールバック関数を起こし、バック側のテキストを受信                                      \n",
       "    ipy_TransView.model.set('b2f_order_text', (ipy_TransView.model.get('b2f_order_text')+1))\n",
       "    ipy_TransView.touch();\n",
       "};\n",
       "\n",
       "//ウィジェットで値を取得\n",
       "require.undef('trans');\n",
       "define('trans', [\"@jupyter-widgets/base\"], function(widgets) {\n",
       "    var TransView = widgets.DOMWidgetView.extend({\n",
       "        render: function() {\n",
       "            //コールバック関数をセット\n",
       "            this.model.on('change:f2b_order_text', this.f2b_order_text_changed, this);\n",
       "            this.model.on('change:b2f_mess_text', this.b2f_mess_text_changed, this);\n",
       "            \n",
       "            ipy_TransView = this //外側からウィジェットにアクセスできるようにセット\n",
       "        },\n",
       "        f2b_order_text_changed: function() {//バック側からテキスト送信指令が来たときのコールバック\n",
       "            this.model.set('f2b_mess_text', document.form1.input1.value);//送信するテキストをセット              \n",
       "            this.touch();\n",
       "        },\n",
       "        b2f_mess_text_changed: function() {//バック側からテキストを受信したときのコールバック            \n",
       "            document.form1.output1.value += 'バック側からテキストを受信：\\n'\n",
       "            document.form1.output1.value += this.model.get('b2f_mess_text')+'\\n'//受信テキストを表示       \n",
       "            this.touch();\n",
       "        },\n",
       "\n",
       "    });\n",
       "    return {\n",
       "        TransView : TransView\n",
       "    };\n",
       "});\n",
       "\n",
       "</script></body></html>"
      ],
      "text/plain": [
       "<IPython.core.display.HTML object>"
      ]
     },
     "metadata": {},
     "output_type": "display_data"
    }
   ],
   "source": [
    "%%html\n",
    "<!DOCTYPE html><html lang=\"ja\">\n",
    "<head><mata charset=\"utf-8\"/><title>widget test</title></head><body>\n",
    "\n",
    "<form name=\"form1\">\n",
    "送信テキスト：\n",
    "<input type=\"text\" name=\"input1\" value=\"フロント側テキスト「abc,def」\" style=\"width:300px;\"><br>\n",
    "ログ：<br>\n",
    "<textarea disabled name=\"output1\" rows=\"3\" cols=\"60\"></textarea><br>\n",
    "<button name=\"btn1\" type=\"button\">受信ボタン</button>\n",
    "</form>\n",
    "\n",
    "<script>\n",
    "var ipy_TransView = \"\"\n",
    "\n",
    "document.form1.btn1.onclick = function() {\n",
    "    //b2f_order_textを変化させる(+1する)、バック側のコールバック関数を起こし、バック側のテキストを受信                                      \n",
    "    ipy_TransView.model.set('b2f_order_text', (ipy_TransView.model.get('b2f_order_text')+1))\n",
    "    ipy_TransView.touch();\n",
    "};\n",
    "\n",
    "//ウィジェットで値を取得\n",
    "require.undef('trans');\n",
    "define('trans', [\"@jupyter-widgets/base\"], function(widgets) {\n",
    "    var TransView = widgets.DOMWidgetView.extend({\n",
    "        render: function() {\n",
    "            //コールバック関数をセット\n",
    "            this.model.on('change:f2b_order_text', this.f2b_order_text_changed, this);\n",
    "            this.model.on('change:b2f_mess_text', this.b2f_mess_text_changed, this);\n",
    "            \n",
    "            ipy_TransView = this //外側からウィジェットにアクセスできるようにセット\n",
    "        },\n",
    "        f2b_order_text_changed: function() {//バック側からテキスト送信指令が来たときのコールバック\n",
    "            this.model.set('f2b_mess_text', document.form1.input1.value);//送信するテキストをセット              \n",
    "            this.touch();\n",
    "        },\n",
    "        b2f_mess_text_changed: function() {//バック側からテキストを受信したときのコールバック            \n",
    "            document.form1.output1.value += 'バック側からテキストを受信：\\n'\n",
    "            document.form1.output1.value += this.model.get('b2f_mess_text')+'\\n'//受信テキストを表示       \n",
    "            this.touch();\n",
    "        },\n",
    "\n",
    "    });\n",
    "    return {\n",
    "        TransView : TransView\n",
    "    };\n",
    "});\n",
    "\n",
    "</script></body></html>"
   ]
  },
  {
   "cell_type": "code",
   "execution_count": 3,
   "metadata": {},
   "outputs": [
    {
     "data": {
      "application/vnd.jupyter.widget-view+json": {
       "model_id": "17e8c758d6d9434b96cb0fac16557fa0",
       "version_major": 2,
       "version_minor": 0
      },
      "text/html": [
       "<p>Failed to display Jupyter Widget of type <code>TransWidget</code>.</p>\n",
       "<p>\n",
       "  If you're reading this message in the Jupyter Notebook or JupyterLab Notebook, it may mean\n",
       "  that the widgets JavaScript is still loading. If this message persists, it\n",
       "  likely means that the widgets JavaScript library is either not installed or\n",
       "  not enabled. See the <a href=\"https://ipywidgets.readthedocs.io/en/stable/user_install.html\">Jupyter\n",
       "  Widgets Documentation</a> for setup instructions.\n",
       "</p>\n",
       "<p>\n",
       "  If you're reading this message in another frontend (for example, a static\n",
       "  rendering on GitHub or <a href=\"https://nbviewer.jupyter.org/\">NBViewer</a>),\n",
       "  it may mean that your frontend doesn't currently support widgets.\n",
       "</p>\n"
      ],
      "text/plain": [
       "TransWidget()"
      ]
     },
     "metadata": {},
     "output_type": "display_data"
    },
    {
     "name": "stdout",
     "output_type": "stream",
     "text": [
      "フロント側よりテキストを受信：\n",
      "フロント側テキスト「abc,def」\n"
     ]
    }
   ],
   "source": [
    "#取得用のウイジェット作成\n",
    "import ipywidgets as widgets\n",
    "from traitlets import Unicode,Int\n",
    "class TransWidget(widgets.DOMWidget):\n",
    "    _view_name = Unicode('TransView').tag(sync=True)\n",
    "    _view_module = Unicode('trans').tag(sync=True)\n",
    "    f2b_order_text = Int(0).tag(sync=True) #バック側より、フロント⇒バック側へテキストを送る指令用\n",
    "    f2b_mess_text = Unicode('').tag(sync=True) #フロント⇒バック側へ送るテキストの中身\n",
    "    b2f_order_text = Int(0).tag(sync=True) #フロント側より、バック⇒フロント側へテキストを送る指令用\n",
    "    b2f_mess_text = Unicode('').tag(sync=True) #バック⇒フロント側へ送るテキストの中身\n",
    "trans = TransWidget()\n",
    "\n",
    "def b2f_order_text_changed(change):#フロント側からテキスト送信指令が来たときのコールバック\n",
    "    trans.b2f_mess_text = back_text#送信するテキストをセット  \n",
    "\n",
    "def f2b_mess_text_changed(change):#フロント側からテキストを受信したときのコールバック\n",
    "    print('フロント側よりテキストを受信：')\n",
    "    print(trans.f2b_mess_text)#受信テキストを表示\n",
    "\n",
    "#コールバック関数をセット\n",
    "trans.observe(b2f_order_text_changed, names='b2f_order_text')\n",
    "trans.observe(f2b_mess_text_changed, names='f2b_mess_text')\n",
    "\n",
    "#バック側のテキスト内容をセット\"\n",
    "back_text = \"バック側テキスト「ghi,jkl」\"\n",
    "\n",
    "trans #ここで一度ウイジェットを作る必要がある"
   ]
  },
  {
   "cell_type": "code",
   "execution_count": 4,
   "metadata": {},
   "outputs": [],
   "source": [
    "#f2b_order_textを変化させる(+1する)ことで、フロント側のコールバック関数を起こし、フロント側のテキストを受信\n",
    "trans.f2b_order_text += 1 "
   ]
  },
  {
   "cell_type": "code",
   "execution_count": null,
   "metadata": {},
   "outputs": [],
   "source": []
  }
 ],
 "metadata": {
  "kernelspec": {
   "display_name": "Python 3",
   "language": "python",
   "name": "python3"
  },
  "language_info": {
   "codemirror_mode": {
    "name": "ipython",
    "version": 3
   },
   "file_extension": ".py",
   "mimetype": "text/x-python",
   "name": "python",
   "nbconvert_exporter": "python",
   "pygments_lexer": "ipython3",
   "version": "3.6.4"
  }
 },
 "nbformat": 4,
 "nbformat_minor": 2
}
