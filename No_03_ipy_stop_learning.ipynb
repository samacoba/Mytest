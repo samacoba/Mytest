{
 "cells": [
  {
   "cell_type": "code",
   "execution_count": null,
   "metadata": {},
   "outputs": [],
   "source": [
    "#Dconvolution2Dをbokehで可視化\n",
    "#トレーニングをスレッド化\n",
    "#ウェジェットでスタートとストップ制御"
   ]
  },
  {
   "cell_type": "code",
   "execution_count": null,
   "metadata": {},
   "outputs": [],
   "source": [
    "import chainer.links as L\n",
    "import chainer.functions as F\n",
    "from chainer import Variable, optimizers\n",
    "import numpy as np\n",
    "import math\n",
    "import time\n",
    "\n",
    "#１つの球状（ガウスですが）の模様を作成\n",
    "def make_one_core():            \n",
    "    max_xy=15    \n",
    "    sig=5.0\n",
    "    sig2=sig*sig\n",
    "    c_xy=7\n",
    "    core=np.zeros((max_xy, max_xy), dtype= np.float32)\n",
    "    for px in range(0, max_xy):\n",
    "        for py in range(0, max_xy):\n",
    "            r2=(px-c_xy)*(px-c_xy)+(py-c_xy)*(py-c_xy)\n",
    "            core[py][px]=math.exp(-r2/sig2)*1\n",
    "    return core.reshape((1, 1, core.shape[0], core.shape[1]))\n",
    "\n",
    "#点と球状のimageを作成\n",
    "def get_image(N=1, img_w=128, img_h=128):\n",
    "\n",
    "    #ランダムに0.1％の点を作る\n",
    "    img_p = np.random.randint(0, 10000, size = N*img_w*img_h)\n",
    "    img_p[img_p < 9990]=0\n",
    "    img_p[img_p >= 9990]=255\n",
    "\n",
    "    img_p = img_p.reshape((N,1,img_h, img_w)).astype(np.float32)\n",
    "\n",
    "    decon_core = L.Deconvolution2D(1, 1, 15, stride=1, pad=7)\n",
    "    #Wに球状の模様をあてる\n",
    "    decon_core.W.data = make_one_core()\n",
    "\n",
    "    #点⇒球に変換\n",
    "    img_core = decon_core(img_p)#Variableに変換なしでもOK\n",
    "    \n",
    "    return img_p, img_core.data "
   ]
  },
  {
   "cell_type": "code",
   "execution_count": null,
   "metadata": {},
   "outputs": [],
   "source": [
    "#トレーニング\n",
    "def training():\n",
    "    \n",
    "    global epoch\n",
    "    while epoch < 50:\n",
    "\n",
    "        epoch = epoch + 1\n",
    "        \n",
    "        #1層のDeconvolutionを通してロスを計算しアップデート\n",
    "        model.cleargrads()\n",
    "        img_y = model(img_p)\n",
    "        loss = F.mean_squared_error(img_y, img_core)\n",
    "        loss.backward()\n",
    "        optimizer.update()\n",
    "\n",
    "        #画像・ロスデータをセット\n",
    "        rend1.data_source.data['image'] = [img_p[0][0]]\n",
    "        rend2.data_source.data['image'] = [img_y.data[0][0]]\n",
    "        plt1.title.text='epoch = '+str(epoch)\n",
    "        plt2.title.text='loss  = '+str(loss.data)\n",
    "        push_notebook(handle = handle)#表示をアップデート\n",
    "        time.sleep(0.5)\n",
    "        \n",
    "        if(stop_flag == True):#ストップフラグがTrueでトレーニング停止\n",
    "            break        \n"
   ]
  },
  {
   "cell_type": "code",
   "execution_count": null,
   "metadata": {},
   "outputs": [],
   "source": [
    "#ウィジェット\n",
    "import ipywidgets as widgets\n",
    "from IPython.display import display\n",
    "\n",
    "start_button = widgets.Button(description=\"Start\")#スタートボタンウィジェット\n",
    "stop_button = widgets.Button(description=\"Stop\")#ストップボタンウィジェット\n",
    "\n",
    "#スタートボタンをクリック時の実行関数を定義\n",
    "def on_start_button_clicked(b):\n",
    "    global stop_flag\n",
    "    if stop_flag == True:#2回押し防止用\n",
    "        \n",
    "        stop_flag = False\n",
    "        \n",
    "        #別スレッドでトレーニングを実行する必要がある\n",
    "        import threading\n",
    "        thread = threading.Thread(target = training)\n",
    "        thread.start()#トレーニングスタート\n",
    "\n",
    "#ストップボタンをクリック時の実行関数を定義\n",
    "def on_stop_button_clicked(b):\n",
    "    global stop_flag\n",
    "    stop_flag = True\n",
    "\n",
    "    \n",
    "#ボタンをクリック時の実行関数をウィジェットに結びつける\n",
    "start_button.on_click(on_start_button_clicked)\n",
    "stop_button.on_click(on_stop_button_clicked)"
   ]
  },
  {
   "cell_type": "code",
   "execution_count": null,
   "metadata": {},
   "outputs": [],
   "source": [
    "#モデル・オプティマイザ設定\n",
    "model =  L.Deconvolution2D(1, 1, 15, stride=1, pad=7)#1層のDeconvolution\n",
    "optimizer = optimizers.SGD(lr=0.0005)#大きいと発散する\n",
    "optimizer.setup(model)\n",
    "epoch = 0\n",
    "stop_flag = True #初期はストップフラグ停止状態"
   ]
  },
  {
   "cell_type": "code",
   "execution_count": null,
   "metadata": {},
   "outputs": [],
   "source": [
    "#bokehで描画\n",
    "from bokeh.plotting import figure\n",
    "from bokeh.io import push_notebook, show, output_notebook\n",
    "from bokeh.layouts import gridplot\n",
    "\n",
    "output_notebook()\n",
    "\n",
    "palette_256 = ['#%02x%02x%02x' %(i,i,i) for i in range(256)] #256段階で白黒表示用\n",
    "\n",
    "img_p, img_core = get_image()#点と球状のimageを取得\n",
    "\n",
    "img_h = img_p.shape[2]\n",
    "img_w = img_p.shape[3]\n",
    "\n",
    "plt1 = figure(title = 'epoch = --', x_range=[0, img_w], y_range=[0, img_h])\n",
    "rend1 = plt1.image(image=[img_p[0][0]],x=[0], y=[0], dw=[img_w], dh=[img_h], palette=palette_256)\n",
    "\n",
    "plt2 = figure(title = 'loss  = 0', x_range=plt1.x_range, y_range=plt1.y_range)\n",
    "rend2 = plt2.image(image=[img_core[0][0]],x=[0], y=[0], dw=[img_w], dh=[img_h], palette=palette_256)\n",
    "\n",
    "plts = gridplot([[plt1,plt2]], plot_width=300, plot_height=300)\n",
    "handle = show(plts, notebook_handle=True)"
   ]
  },
  {
   "cell_type": "code",
   "execution_count": null,
   "metadata": {},
   "outputs": [],
   "source": [
    "display(start_button, stop_button)#ウィジェットのボタンを表示"
   ]
  },
  {
   "cell_type": "code",
   "execution_count": null,
   "metadata": {},
   "outputs": [],
   "source": [
    "print(model.W.data[0][0])#Deconvolution2DのウェイトWを表示"
   ]
  },
  {
   "cell_type": "code",
   "execution_count": null,
   "metadata": {},
   "outputs": [],
   "source": []
  }
 ],
 "metadata": {
  "kernelspec": {
   "display_name": "Python 3",
   "language": "python",
   "name": "python3"
  },
  "language_info": {
   "codemirror_mode": {
    "name": "ipython",
    "version": 3
   },
   "file_extension": ".py",
   "mimetype": "text/x-python",
   "name": "python",
   "nbconvert_exporter": "python",
   "pygments_lexer": "ipython3",
   "version": "3.6.4"
  }
 },
 "nbformat": 4,
 "nbformat_minor": 2
}
